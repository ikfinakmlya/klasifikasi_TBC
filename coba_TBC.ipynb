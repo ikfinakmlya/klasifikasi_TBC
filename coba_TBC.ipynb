{
  "nbformat": 4,
  "nbformat_minor": 0,
  "metadata": {
    "colab": {
      "provenance": [],
      "gpuType": "T4",
      "authorship_tag": "ABX9TyNnAEwf7BuZJOnSPNXRMRcr",
      "include_colab_link": true
    },
    "kernelspec": {
      "name": "python3",
      "display_name": "Python 3"
    },
    "language_info": {
      "name": "python"
    }
  },
  "cells": [
    {
      "cell_type": "markdown",
      "metadata": {
        "id": "view-in-github",
        "colab_type": "text"
      },
      "source": [
        "<a href=\"https://colab.research.google.com/github/ikfinakmlya/klasifikasi_TBC/blob/main/coba_TBC.ipynb\" target=\"_parent\"><img src=\"https://colab.research.google.com/assets/colab-badge.svg\" alt=\"Open In Colab\"/></a>"
      ]
    },
    {
      "cell_type": "code",
      "execution_count": 1,
      "metadata": {
        "id": "EJRkMd_7p8au"
      },
      "outputs": [],
      "source": [
        "import tensorflow as tf\n",
        "from tensorflow.keras.models import Sequential\n",
        "from tensorflow.keras.layers import Conv2D, MaxPooling2D, Flatten, Dense, Dropout\n",
        "from tensorflow.keras.preprocessing.image import ImageDataGenerator"
      ]
    },
    {
      "cell_type": "code",
      "source": [
        "from google.colab import drive\n",
        "drive.mount('/content/drive')"
      ],
      "metadata": {
        "colab": {
          "base_uri": "https://localhost:8080/"
        },
        "id": "tyzLDNo4rDJC",
        "outputId": "05214d8b-c30d-4499-a150-2ba3cd28e067"
      },
      "execution_count": 2,
      "outputs": [
        {
          "output_type": "stream",
          "name": "stdout",
          "text": [
            "Mounted at /content/drive\n"
          ]
        }
      ]
    },
    {
      "cell_type": "code",
      "source": [
        "train_dir = \"/content/drive/MyDrive/TBC1\"\n"
      ],
      "metadata": {
        "id": "3HTZ6fRRrKx8"
      },
      "execution_count": 3,
      "outputs": []
    },
    {
      "cell_type": "code",
      "source": [
        "from tensorflow.keras.preprocessing.image import ImageDataGenerator\n",
        "from sklearn.utils import class_weight\n",
        "import numpy as np\n",
        "\n",
        "train_dir = \"/content/drive/MyDrive/TBC1\"\n",
        "\n",
        "datagen = ImageDataGenerator(\n",
        "    rescale=1./255,\n",
        "    validation_split=0.2,       # 80% train, 20% val\n",
        "    rotation_range=15,\n",
        "    zoom_range=0.1,\n",
        "    horizontal_flip=True,\n",
        "    brightness_range=[0.8, 1.2]\n",
        ")\n",
        "\n",
        "train_generator = datagen.flow_from_directory(\n",
        "    train_dir,\n",
        "    target_size=(64,64),      # resize dari 512x512 ke 64x64\n",
        "    batch_size=16,\n",
        "    class_mode=\"binary\",\n",
        "    subset=\"training\"\n",
        ")\n",
        "\n",
        "val_generator = datagen.flow_from_directory(\n",
        "    train_dir,\n",
        "    target_size=(64,64),\n",
        "    batch_size=16,\n",
        "    class_mode=\"binary\",\n",
        "    subset=\"validation\"\n",
        ")\n",
        "\n",
        "# ✅ Tambahan Step 1: cek mapping kelas\n",
        "print(\"class_indices:\", train_generator.class_indices)\n",
        "\n",
        "# ✅ Tambahan Step 2: hitung class weight biar seimbang\n",
        "class_weights = class_weight.compute_class_weight(\n",
        "    class_weight=\"balanced\",\n",
        "    classes=np.unique(train_generator.classes),\n",
        "    y=train_generator.classes\n",
        ")\n",
        "class_weights = dict(enumerate(class_weights))\n",
        "print(\"Class Weights:\", class_weights)\n"
      ],
      "metadata": {
        "colab": {
          "base_uri": "https://localhost:8080/"
        },
        "id": "H30UIAL5wYzT",
        "outputId": "14bcf6e9-c520-4564-c22f-c8d9558583b7"
      },
      "execution_count": 4,
      "outputs": [
        {
          "output_type": "stream",
          "name": "stdout",
          "text": [
            "Found 3360 images belonging to 2 classes.\n",
            "Found 840 images belonging to 2 classes.\n",
            "class_indices: {'Normal': 0, 'Tuberculosis': 1}\n",
            "Class Weights: {0: np.float64(0.6), 1: np.float64(3.0)}\n"
          ]
        }
      ]
    },
    {
      "cell_type": "code",
      "source": [
        "import tensorflow as tf\n",
        "from tensorflow.keras.models import Sequential\n",
        "from tensorflow.keras.layers import Conv2D, MaxPooling2D, Flatten, Dense, Dropout\n",
        "from tensorflow.keras.callbacks import EarlyStopping\n",
        "\n",
        "# Bangun CNN sederhana\n",
        "model = Sequential([\n",
        "    Conv2D(32, (3,3), activation='relu', input_shape=(64,64,3)),\n",
        "    MaxPooling2D(2,2),\n",
        "\n",
        "    Conv2D(64, (3,3), activation='relu'),\n",
        "    MaxPooling2D(2,2),\n",
        "\n",
        "    Conv2D(128, (3,3), activation='relu'),\n",
        "    MaxPooling2D(2,2),\n",
        "\n",
        "    Flatten(),\n",
        "    Dense(128, activation='relu'),\n",
        "    Dropout(0.5),\n",
        "    Dense(1, activation='sigmoid')   # binary output\n",
        "])\n",
        "\n",
        "# ✅ Compile model\n",
        "model.compile(optimizer='adam',\n",
        "              loss='binary_crossentropy',\n",
        "              metrics=['accuracy'])\n",
        "\n",
        "# ✅ Definisikan EarlyStopping\n",
        "es = EarlyStopping(\n",
        "    monitor=\"val_loss\",        # pantau val_loss\n",
        "    patience=5,                # berhenti kalau 5 epoch berturut-turut tidak membaik\n",
        "    restore_best_weights=True  # balikin ke bobot terbaik\n",
        ")\n",
        "\n",
        "# ✅ Training dengan EarlyStopping + class_weight\n",
        "history = model.fit(\n",
        "    train_generator,\n",
        "    epochs=20,                 # lebih besar dari 5\n",
        "    validation_data=val_generator,\n",
        "    class_weight=class_weights,\n",
        "    callbacks=[es]             # ⬅️ tambahan di sini\n",
        ")\n",
        "\n",
        "# ✅ Simpan model\n",
        "model.save(\"/content/drive/MyDrive/cnn_tbc_model.keras\")\n"
      ],
      "metadata": {
        "colab": {
          "base_uri": "https://localhost:8080/"
        },
        "id": "xIB2oeTP15Ii",
        "outputId": "5db95365-97fc-48d5-9537-88ea375d1bbb"
      },
      "execution_count": 7,
      "outputs": [
        {
          "output_type": "stream",
          "name": "stdout",
          "text": [
            "Epoch 1/20\n",
            "\u001b[1m210/210\u001b[0m \u001b[32m━━━━━━━━━━━━━━━━━━━━\u001b[0m\u001b[37m\u001b[0m \u001b[1m51s\u001b[0m 238ms/step - accuracy: 0.6639 - loss: 0.6697 - val_accuracy: 0.8155 - val_loss: 0.4406\n",
            "Epoch 2/20\n",
            "\u001b[1m210/210\u001b[0m \u001b[32m━━━━━━━━━━━━━━━━━━━━\u001b[0m\u001b[37m\u001b[0m \u001b[1m50s\u001b[0m 238ms/step - accuracy: 0.8745 - loss: 0.3355 - val_accuracy: 0.9048 - val_loss: 0.2389\n",
            "Epoch 3/20\n",
            "\u001b[1m210/210\u001b[0m \u001b[32m━━━━━━━━━━━━━━━━━━━━\u001b[0m\u001b[37m\u001b[0m \u001b[1m50s\u001b[0m 240ms/step - accuracy: 0.9028 - loss: 0.2592 - val_accuracy: 0.9226 - val_loss: 0.2064\n",
            "Epoch 4/20\n",
            "\u001b[1m210/210\u001b[0m \u001b[32m━━━━━━━━━━━━━━━━━━━━\u001b[0m\u001b[37m\u001b[0m \u001b[1m50s\u001b[0m 238ms/step - accuracy: 0.9083 - loss: 0.2498 - val_accuracy: 0.9048 - val_loss: 0.2435\n",
            "Epoch 5/20\n",
            "\u001b[1m210/210\u001b[0m \u001b[32m━━━━━━━━━━━━━━━━━━━━\u001b[0m\u001b[37m\u001b[0m \u001b[1m50s\u001b[0m 238ms/step - accuracy: 0.9185 - loss: 0.2217 - val_accuracy: 0.9310 - val_loss: 0.1752\n",
            "Epoch 6/20\n",
            "\u001b[1m210/210\u001b[0m \u001b[32m━━━━━━━━━━━━━━━━━━━━\u001b[0m\u001b[37m\u001b[0m \u001b[1m50s\u001b[0m 236ms/step - accuracy: 0.9224 - loss: 0.2147 - val_accuracy: 0.9060 - val_loss: 0.2262\n",
            "Epoch 7/20\n",
            "\u001b[1m210/210\u001b[0m \u001b[32m━━━━━━━━━━━━━━━━━━━━\u001b[0m\u001b[37m\u001b[0m \u001b[1m50s\u001b[0m 236ms/step - accuracy: 0.9268 - loss: 0.2271 - val_accuracy: 0.9429 - val_loss: 0.1735\n",
            "Epoch 8/20\n",
            "\u001b[1m210/210\u001b[0m \u001b[32m━━━━━━━━━━━━━━━━━━━━\u001b[0m\u001b[37m\u001b[0m \u001b[1m51s\u001b[0m 242ms/step - accuracy: 0.9407 - loss: 0.1784 - val_accuracy: 0.9226 - val_loss: 0.1950\n",
            "Epoch 9/20\n",
            "\u001b[1m210/210\u001b[0m \u001b[32m━━━━━━━━━━━━━━━━━━━━\u001b[0m\u001b[37m\u001b[0m \u001b[1m50s\u001b[0m 238ms/step - accuracy: 0.9329 - loss: 0.1743 - val_accuracy: 0.9321 - val_loss: 0.1858\n",
            "Epoch 10/20\n",
            "\u001b[1m210/210\u001b[0m \u001b[32m━━━━━━━━━━━━━━━━━━━━\u001b[0m\u001b[37m\u001b[0m \u001b[1m50s\u001b[0m 238ms/step - accuracy: 0.9479 - loss: 0.1488 - val_accuracy: 0.9333 - val_loss: 0.1847\n",
            "Epoch 11/20\n",
            "\u001b[1m210/210\u001b[0m \u001b[32m━━━━━━━━━━━━━━━━━━━━\u001b[0m\u001b[37m\u001b[0m \u001b[1m50s\u001b[0m 239ms/step - accuracy: 0.9520 - loss: 0.1401 - val_accuracy: 0.9274 - val_loss: 0.1772\n",
            "Epoch 12/20\n",
            "\u001b[1m210/210\u001b[0m \u001b[32m━━━━━━━━━━━━━━━━━━━━\u001b[0m\u001b[37m\u001b[0m \u001b[1m50s\u001b[0m 238ms/step - accuracy: 0.9489 - loss: 0.1512 - val_accuracy: 0.9500 - val_loss: 0.1613\n",
            "Epoch 13/20\n",
            "\u001b[1m210/210\u001b[0m \u001b[32m━━━━━━━━━━━━━━━━━━━━\u001b[0m\u001b[37m\u001b[0m \u001b[1m50s\u001b[0m 239ms/step - accuracy: 0.9532 - loss: 0.1241 - val_accuracy: 0.9607 - val_loss: 0.1243\n",
            "Epoch 14/20\n",
            "\u001b[1m210/210\u001b[0m \u001b[32m━━━━━━━━━━━━━━━━━━━━\u001b[0m\u001b[37m\u001b[0m \u001b[1m50s\u001b[0m 237ms/step - accuracy: 0.9550 - loss: 0.1402 - val_accuracy: 0.9690 - val_loss: 0.1226\n",
            "Epoch 15/20\n",
            "\u001b[1m210/210\u001b[0m \u001b[32m━━━━━━━━━━━━━━━━━━━━\u001b[0m\u001b[37m\u001b[0m \u001b[1m49s\u001b[0m 236ms/step - accuracy: 0.9484 - loss: 0.1652 - val_accuracy: 0.9381 - val_loss: 0.1431\n",
            "Epoch 16/20\n",
            "\u001b[1m210/210\u001b[0m \u001b[32m━━━━━━━━━━━━━━━━━━━━\u001b[0m\u001b[37m\u001b[0m \u001b[1m50s\u001b[0m 236ms/step - accuracy: 0.9500 - loss: 0.1439 - val_accuracy: 0.9619 - val_loss: 0.1243\n",
            "Epoch 17/20\n",
            "\u001b[1m210/210\u001b[0m \u001b[32m━━━━━━━━━━━━━━━━━━━━\u001b[0m\u001b[37m\u001b[0m \u001b[1m50s\u001b[0m 238ms/step - accuracy: 0.9649 - loss: 0.1145 - val_accuracy: 0.9607 - val_loss: 0.1041\n",
            "Epoch 18/20\n",
            "\u001b[1m210/210\u001b[0m \u001b[32m━━━━━━━━━━━━━━━━━━━━\u001b[0m\u001b[37m\u001b[0m \u001b[1m50s\u001b[0m 237ms/step - accuracy: 0.9564 - loss: 0.1179 - val_accuracy: 0.9036 - val_loss: 0.2410\n",
            "Epoch 19/20\n",
            "\u001b[1m210/210\u001b[0m \u001b[32m━━━━━━━━━━━━━━━━━━━━\u001b[0m\u001b[37m\u001b[0m \u001b[1m50s\u001b[0m 237ms/step - accuracy: 0.9571 - loss: 0.1220 - val_accuracy: 0.9452 - val_loss: 0.1489\n",
            "Epoch 20/20\n",
            "\u001b[1m210/210\u001b[0m \u001b[32m━━━━━━━━━━━━━━━━━━━━\u001b[0m\u001b[37m\u001b[0m \u001b[1m50s\u001b[0m 237ms/step - accuracy: 0.9668 - loss: 0.1014 - val_accuracy: 0.9476 - val_loss: 0.1409\n"
          ]
        }
      ]
    },
    {
      "cell_type": "code",
      "source": [
        "from tensorflow.keras.preprocessing import image\n",
        "import numpy as np\n",
        "\n",
        "def predict_with_prob(model, img_path, target_size=(64,64)):\n",
        "    img = image.load_img(img_path, target_size=target_size)\n",
        "    arr = image.img_to_array(img) / 255.0\n",
        "    arr = np.expand_dims(arr, 0)\n",
        "    prob = float(model.predict(arr)[0][0])\n",
        "    return prob\n",
        "\n",
        "# 🔹 Contoh pemakaian\n",
        "img_path = \"/content/drive/MyDrive/TBC1/Normal/Normal-1.png\"   # ganti sesuai path gambar\n",
        "prob = predict_with_prob(model, img_path)\n",
        "\n",
        "print(\"Prob(TBC) =\", prob)\n",
        "if prob > 0.5:\n",
        "    print(\"Prediksi: TBC\")\n",
        "else:\n",
        "    print(\"Prediksi: Normal\")\n"
      ],
      "metadata": {
        "colab": {
          "base_uri": "https://localhost:8080/"
        },
        "id": "Hz9-Of-qjYfW",
        "outputId": "770845bb-1d6d-4c47-8728-7405165424d2"
      },
      "execution_count": 8,
      "outputs": [
        {
          "output_type": "stream",
          "name": "stdout",
          "text": [
            "\u001b[1m1/1\u001b[0m \u001b[32m━━━━━━━━━━━━━━━━━━━━\u001b[0m\u001b[37m\u001b[0m \u001b[1m0s\u001b[0m 81ms/step\n",
            "Prob(TBC) = 0.0009012023801915348\n",
            "Prediksi: Normal\n"
          ]
        }
      ]
    },
    {
      "cell_type": "code",
      "source": [
        "import numpy as np\n",
        "from sklearn.metrics import classification_report, confusion_matrix\n",
        "import matplotlib.pyplot as plt\n",
        "import seaborn as sns\n",
        "\n",
        "# 1. Evaluasi akurasi dan loss di validation set\n",
        "val_loss, val_acc = model.evaluate(val_generator)\n",
        "print(\"Validation Loss:\", val_loss)\n",
        "print(\"Validation Accuracy:\", val_acc)\n",
        "\n",
        "# 2. Prediksi probabilitas pada data validasi\n",
        "y_proba = model.predict(val_generator)\n",
        "\n",
        "# 3. Ubah ke kelas (0/1)\n",
        "y_pred = (y_proba > 0.5).astype(\"int32\").reshape(-1)\n",
        "\n",
        "# 4. Label sebenarnya\n",
        "y_true = val_generator.classes\n",
        "\n",
        "# 5. Ambil nama kelas otomatis dari generator\n",
        "target_names = list(val_generator.class_indices.keys())\n",
        "\n",
        "# 6. Confusion Matrix\n",
        "cm = confusion_matrix(y_true, y_pred)\n",
        "\n",
        "plt.figure(figsize=(6,4))\n",
        "sns.heatmap(cm, annot=True, fmt=\"d\", cmap=\"Blues\",\n",
        "            xticklabels=target_names,\n",
        "            yticklabels=target_names)\n",
        "plt.xlabel(\"Predicted\")\n",
        "plt.ylabel(\"Actual\")\n",
        "plt.title(\"Confusion Matrix - CNN Model\")\n",
        "plt.show()\n",
        "\n",
        "# 7. Classification Report\n",
        "print(\"Classification Report:\")\n",
        "print(classification_report(y_true, y_pred, target_names=target_names))\n"
      ],
      "metadata": {
        "colab": {
          "base_uri": "https://localhost:8080/",
          "height": 653
        },
        "id": "2NBlvODc4DAL",
        "outputId": "6c683dd4-2fc7-4198-a3dc-1b84c4d6b705"
      },
      "execution_count": 9,
      "outputs": [
        {
          "output_type": "stream",
          "name": "stdout",
          "text": [
            "\u001b[1m53/53\u001b[0m \u001b[32m━━━━━━━━━━━━━━━━━━━━\u001b[0m\u001b[37m\u001b[0m \u001b[1m8s\u001b[0m 159ms/step - accuracy: 0.9539 - loss: 0.1175\n",
            "Validation Loss: 0.11265087127685547\n",
            "Validation Accuracy: 0.9607142806053162\n",
            "\u001b[1m53/53\u001b[0m \u001b[32m━━━━━━━━━━━━━━━━━━━━\u001b[0m\u001b[37m\u001b[0m \u001b[1m8s\u001b[0m 150ms/step\n"
          ]
        },
        {
          "output_type": "display_data",
          "data": {
            "text/plain": [
              "<Figure size 600x400 with 2 Axes>"
            ],
            "image/png": "[encoded data removed]"
          },
          "metadata": {}
        },
        {
          "output_type": "stream",
          "name": "stdout",
          "text": [
            "Classification Report:\n",
            "              precision    recall  f1-score   support\n",
            "\n",
            "      Normal       0.84      0.85      0.84       700\n",
            "Tuberculosis       0.18      0.16      0.17       140\n",
            "\n",
            "    accuracy                           0.74       840\n",
            "   macro avg       0.51      0.51      0.51       840\n",
            "weighted avg       0.73      0.74      0.73       840\n",
            "\n"
          ]
        }
      ]
    }
  ]
}